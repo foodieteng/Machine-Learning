{
 "cells": [
  {
   "cell_type": "code",
   "execution_count": 1,
   "metadata": {},
   "outputs": [],
   "source": [
    "from cgi import test\n",
    "from math import exp, sqrt, pi\n",
    "import pandas as pd\n",
    "import numpy as np\n",
    "from sklearn.decomposition import PCA\n",
    "import matplotlib.pyplot as plt\n",
    "from mpl_toolkits.mplot3d import Axes3D"
   ]
  },
  {
   "cell_type": "code",
   "execution_count": 2,
   "metadata": {},
   "outputs": [],
   "source": [
    "# Build function for creating a Normal (Gaussain) distribution function\n",
    "def normal_dist(x, mean, stdev):\n",
    "    prob_density = 1/sqrt(2*pi)/stdev*exp(-pow(x-mean,2)/2/stdev/stdev)\n",
    "    # prob_density = pi*stdev*exp(-0.5*((x-mean)/stdev)**2)\n",
    "    return prob_density"
   ]
  },
  {
   "cell_type": "code",
   "execution_count": 3,
   "metadata": {},
   "outputs": [],
   "source": [
    "# independent features with gaussian distrobution (14 features)\n",
    "features = [\"Wine type\",\"Alcohol\", \"Malic acid\", \"Ash\", \"Alcalinity of ash\", \"Magnesium\", \n",
    "            \"Total phenols\", \"Flavanoids\", \"Non Flavanoid phenols\", \"Proanthocyanins\",\n",
    "            \"Color intensity\", \"Hue\", \"OD280/OD315 of diluted wines\", \"Proline\"]"
   ]
  },
  {
   "cell_type": "code",
   "execution_count": 4,
   "metadata": {},
   "outputs": [],
   "source": [
    "# Read .csv file  \n",
    "wineDataSet = pd.read_csv('Wine.csv', header=None)\n"
   ]
  },
  {
   "cell_type": "code",
   "execution_count": 5,
   "metadata": {},
   "outputs": [],
   "source": [
    "# Find the number of different wines in the data set\n",
    "sets_of_wine = [0,0,0]\n",
    "for i in range(wineDataSet.shape[0]):\n",
    "    sets_of_wine[int(wineDataSet[0].values[i])-1]+=1\n",
    "    "
   ]
  },
  {
   "cell_type": "code",
   "execution_count": 6,
   "metadata": {},
   "outputs": [
    {
     "name": "stdout",
     "output_type": "stream",
     "text": [
      "[59, 71, 48]\n"
     ]
    }
   ],
   "source": [
    "# Wine 1: 1-59, Wine 2: 60-130, Wine 3: 131-178\n",
    "print(sets_of_wine)"
   ]
  },
  {
   "cell_type": "code",
   "execution_count": 7,
   "metadata": {},
   "outputs": [],
   "source": [
    "wine1 = wineDataSet.iloc[               :sets_of_wine[0]                ,:]\n",
    "wine2 = wineDataSet.iloc[sets_of_wine[0]:sets_of_wine[0]+sets_of_wine[1],:]\n",
    "wine3 = wineDataSet.iloc[sets_of_wine[0]+sets_of_wine[1]:               ,:]"
   ]
  },
  {
   "cell_type": "code",
   "execution_count": 8,
   "metadata": {},
   "outputs": [],
   "source": [
    "# Split the wine dataset according to its label \n",
    "wine1_test = wine1.sample(n=18)\n",
    "wine1_train = wine1.drop(wine1_test.index)\n",
    "wine2_test = wine2.sample(n=18)\n",
    "wine2_train = wine2.drop(wine2_test.index)\n",
    "wine3_test = wine3.sample(n=18)\n",
    "wine3_train = wine3.drop(wine3_test.index)"
   ]
  },
  {
   "cell_type": "code",
   "execution_count": 9,
   "metadata": {},
   "outputs": [],
   "source": [
    "# Build train and test sets \n",
    "train_data = pd.concat([wine1_train, wine2_train, wine3_train])\n",
    "test_data = pd.concat([wine1_test, wine2_test, wine3_test])"
   ]
  },
  {
   "cell_type": "code",
   "execution_count": 10,
   "metadata": {},
   "outputs": [
    {
     "name": "stdout",
     "output_type": "stream",
     "text": [
      "(124, 14)\n",
      "(54, 14)\n"
     ]
    }
   ],
   "source": [
    "# Instance and its label\n",
    "print(train_data.shape)\n",
    "print(test_data.shape)"
   ]
  },
  {
   "cell_type": "code",
   "execution_count": 11,
   "metadata": {},
   "outputs": [],
   "source": [
    "# Save as csv file\n",
    "train_data.to_csv('train.csv')\n",
    "test_data.to_csv('test.csv')"
   ]
  },
  {
   "cell_type": "code",
   "execution_count": 12,
   "metadata": {},
   "outputs": [],
   "source": [
    "# Find the number of different wines in the training set\n",
    "sets_of_wine = [0,0,0]\n",
    "for i in range(train_data.shape[0]):\n",
    "    sets_of_wine[train_data[0].values[i]-1]+=1"
   ]
  },
  {
   "cell_type": "code",
   "execution_count": 13,
   "metadata": {},
   "outputs": [],
   "source": [
    "# Calculate mean and standard deviation of each feature of different wine. \n",
    "# Stored as [mean_feature1, stdev_feature1], ... (13 for each wine)\n",
    "feature_distri = []\n",
    "data_accum = 0\n",
    "for i in range(3):\n",
    "    for j in range(13):\n",
    "        # calculate mean and stdev for train_data[0:sets_of_wine[i]][j+1]\n",
    "        mean  = np.average(train_data[j+1].values[data_accum:data_accum+sets_of_wine[i]])\n",
    "        stdev = np.std(train_data[j+1].values[data_accum:data_accum+sets_of_wine[i]])\n",
    "        feature_distri.append([mean,stdev])\n",
    "    data_accum += sets_of_wine[i]"
   ]
  },
  {
   "cell_type": "code",
   "execution_count": 14,
   "metadata": {},
   "outputs": [],
   "source": [
    "# Calculate prior for each wine\n",
    "priors = [0,0,0]\n",
    "train_total = sets_of_wine[0]+sets_of_wine[1]+sets_of_wine[2]\n",
    "for i in range(3):\n",
    "    priors[i] = sets_of_wine[i]/train_total"
   ]
  },
  {
   "cell_type": "code",
   "execution_count": 15,
   "metadata": {},
   "outputs": [],
   "source": [
    "# Calculate the MAP for all test data\n",
    "wine_posterior = [0,0,0]\n",
    "correctly_labeled = 0\n",
    "prediction = []\n",
    "\n",
    "for i in range(test_data.shape[0]):\n",
    "    for j in range(3):\n",
    "        posterior = 1\n",
    "        for k in range(13):\n",
    "            posterior *= normal_dist(test_data[k+1].values[i], feature_distri[13*j+k][0], feature_distri[13*j+k][1])\n",
    "        posterior *= priors[j]\n",
    "        wine_posterior[j] = posterior\n",
    "    # print(wine_posterior)  \n",
    "    prediction.append(wine_posterior.index(max(wine_posterior))+1)\n",
    "    if prediction[i] == test_data[0].values[i]:\n",
    "        correctly_labeled+=1"
   ]
  },
  {
   "cell_type": "code",
   "execution_count": 16,
   "metadata": {},
   "outputs": [
    {
     "name": "stdout",
     "output_type": "stream",
     "text": [
      "accuracy percent: 98.15%\n",
      "[1, 1, 1, 1, 1, 1, 1, 1, 1, 1, 1, 1, 1, 1, 1, 1, 1, 1, 2, 2, 2, 2, 2, 2, 2, 2, 2, 2, 2, 2, 2, 2, 2, 2, 2, 3, 3, 3, 3, 3, 3, 3, 3, 3, 3, 3, 3, 3, 3, 3, 3, 3, 3, 3] 54\n"
     ]
    }
   ],
   "source": [
    "print('accuracy percent: {:.2%}'.format(correctly_labeled/test_data.shape[0]))\n",
    "print(prediction, len(prediction))"
   ]
  },
  {
   "cell_type": "code",
   "execution_count": 17,
   "metadata": {},
   "outputs": [
    {
     "name": "stdout",
     "output_type": "stream",
     "text": [
      "[1, 1, 1, 1, 1, 1, 1, 1, 1, 1, 1, 1, 1, 1, 1, 1, 1, 1, 2, 2, 2, 2, 2, 2, 2, 2, 2, 2, 2, 2, 2, 2, 2, 2, 2, 2, 3, 3, 3, 3, 3, 3, 3, 3, 3, 3, 3, 3, 3, 3, 3, 3, 3, 3]\n"
     ]
    }
   ],
   "source": [
    "# Show results with sklearn.decomposition.PCA function\n",
    "test_data_no_label = test_data.iloc[: , 1:]\n",
    "labels = test_data[0].tolist()\n",
    "print(labels)"
   ]
  },
  {
   "cell_type": "code",
   "execution_count": 18,
   "metadata": {},
   "outputs": [],
   "source": [
    "features = [\"Wine type\",\"Alcohol\", \"Malic acid\", \"Ash\", \"Alcalinity of ash\", \"Magnesium\", \n",
    "            \"Total phenols\", \"Flavanoids\", \"Non Flavanoid phenols\", \"Proanthocyanins\",\n",
    "            \"Color intensity\", \"Hue\", \"OD280/OD315 of diluted wines\", \"Proline\"]\n",
    "\n",
    "df = pd.read_csv('Wine.csv', names=features, header=0)"
   ]
  },
  {
   "cell_type": "code",
   "execution_count": 19,
   "metadata": {},
   "outputs": [
    {
     "data": {
      "text/html": [
       "<div>\n",
       "<style scoped>\n",
       "    .dataframe tbody tr th:only-of-type {\n",
       "        vertical-align: middle;\n",
       "    }\n",
       "\n",
       "    .dataframe tbody tr th {\n",
       "        vertical-align: top;\n",
       "    }\n",
       "\n",
       "    .dataframe thead th {\n",
       "        text-align: right;\n",
       "    }\n",
       "</style>\n",
       "<table border=\"1\" class=\"dataframe\">\n",
       "  <thead>\n",
       "    <tr style=\"text-align: right;\">\n",
       "      <th></th>\n",
       "      <th>Wine type</th>\n",
       "      <th>Alcohol</th>\n",
       "      <th>Malic acid</th>\n",
       "      <th>Ash</th>\n",
       "      <th>Alcalinity of ash</th>\n",
       "      <th>Magnesium</th>\n",
       "      <th>Total phenols</th>\n",
       "      <th>Flavanoids</th>\n",
       "      <th>Non Flavanoid phenols</th>\n",
       "      <th>Proanthocyanins</th>\n",
       "      <th>Color intensity</th>\n",
       "      <th>Hue</th>\n",
       "      <th>OD280/OD315 of diluted wines</th>\n",
       "      <th>Proline</th>\n",
       "    </tr>\n",
       "  </thead>\n",
       "  <tbody>\n",
       "    <tr>\n",
       "      <th>0</th>\n",
       "      <td>1</td>\n",
       "      <td>13.20</td>\n",
       "      <td>1.78</td>\n",
       "      <td>2.14</td>\n",
       "      <td>11.2</td>\n",
       "      <td>100</td>\n",
       "      <td>2.65</td>\n",
       "      <td>2.76</td>\n",
       "      <td>0.26</td>\n",
       "      <td>1.28</td>\n",
       "      <td>4.38</td>\n",
       "      <td>1.05</td>\n",
       "      <td>3.40</td>\n",
       "      <td>1050</td>\n",
       "    </tr>\n",
       "    <tr>\n",
       "      <th>1</th>\n",
       "      <td>1</td>\n",
       "      <td>13.16</td>\n",
       "      <td>2.36</td>\n",
       "      <td>2.67</td>\n",
       "      <td>18.6</td>\n",
       "      <td>101</td>\n",
       "      <td>2.80</td>\n",
       "      <td>3.24</td>\n",
       "      <td>0.30</td>\n",
       "      <td>2.81</td>\n",
       "      <td>5.68</td>\n",
       "      <td>1.03</td>\n",
       "      <td>3.17</td>\n",
       "      <td>1185</td>\n",
       "    </tr>\n",
       "    <tr>\n",
       "      <th>2</th>\n",
       "      <td>1</td>\n",
       "      <td>14.37</td>\n",
       "      <td>1.95</td>\n",
       "      <td>2.50</td>\n",
       "      <td>16.8</td>\n",
       "      <td>113</td>\n",
       "      <td>3.85</td>\n",
       "      <td>3.49</td>\n",
       "      <td>0.24</td>\n",
       "      <td>2.18</td>\n",
       "      <td>7.80</td>\n",
       "      <td>0.86</td>\n",
       "      <td>3.45</td>\n",
       "      <td>1480</td>\n",
       "    </tr>\n",
       "    <tr>\n",
       "      <th>3</th>\n",
       "      <td>1</td>\n",
       "      <td>13.24</td>\n",
       "      <td>2.59</td>\n",
       "      <td>2.87</td>\n",
       "      <td>21.0</td>\n",
       "      <td>118</td>\n",
       "      <td>2.80</td>\n",
       "      <td>2.69</td>\n",
       "      <td>0.39</td>\n",
       "      <td>1.82</td>\n",
       "      <td>4.32</td>\n",
       "      <td>1.04</td>\n",
       "      <td>2.93</td>\n",
       "      <td>735</td>\n",
       "    </tr>\n",
       "    <tr>\n",
       "      <th>4</th>\n",
       "      <td>1</td>\n",
       "      <td>14.20</td>\n",
       "      <td>1.76</td>\n",
       "      <td>2.45</td>\n",
       "      <td>15.2</td>\n",
       "      <td>112</td>\n",
       "      <td>3.27</td>\n",
       "      <td>3.39</td>\n",
       "      <td>0.34</td>\n",
       "      <td>1.97</td>\n",
       "      <td>6.75</td>\n",
       "      <td>1.05</td>\n",
       "      <td>2.85</td>\n",
       "      <td>1450</td>\n",
       "    </tr>\n",
       "  </tbody>\n",
       "</table>\n",
       "</div>"
      ],
      "text/plain": [
       "   Wine type  Alcohol  Malic acid   Ash  Alcalinity of ash  Magnesium  \\\n",
       "0          1    13.20        1.78  2.14               11.2        100   \n",
       "1          1    13.16        2.36  2.67               18.6        101   \n",
       "2          1    14.37        1.95  2.50               16.8        113   \n",
       "3          1    13.24        2.59  2.87               21.0        118   \n",
       "4          1    14.20        1.76  2.45               15.2        112   \n",
       "\n",
       "   Total phenols  Flavanoids  Non Flavanoid phenols  Proanthocyanins  \\\n",
       "0           2.65        2.76                   0.26             1.28   \n",
       "1           2.80        3.24                   0.30             2.81   \n",
       "2           3.85        3.49                   0.24             2.18   \n",
       "3           2.80        2.69                   0.39             1.82   \n",
       "4           3.27        3.39                   0.34             1.97   \n",
       "\n",
       "   Color intensity   Hue  OD280/OD315 of diluted wines  Proline  \n",
       "0             4.38  1.05                          3.40     1050  \n",
       "1             5.68  1.03                          3.17     1185  \n",
       "2             7.80  0.86                          3.45     1480  \n",
       "3             4.32  1.04                          2.93      735  \n",
       "4             6.75  1.05                          2.85     1450  "
      ]
     },
     "execution_count": 19,
     "metadata": {},
     "output_type": "execute_result"
    }
   ],
   "source": [
    "df.head()\n"
   ]
  },
  {
   "cell_type": "code",
   "execution_count": 20,
   "metadata": {},
   "outputs": [
    {
     "name": "stdout",
     "output_type": "stream",
     "text": [
      "<class 'pandas.core.frame.DataFrame'>\n",
      "RangeIndex: 177 entries, 0 to 176\n",
      "Data columns (total 14 columns):\n",
      " #   Column                        Non-Null Count  Dtype  \n",
      "---  ------                        --------------  -----  \n",
      " 0   Wine type                     177 non-null    int64  \n",
      " 1   Alcohol                       177 non-null    float64\n",
      " 2   Malic acid                    177 non-null    float64\n",
      " 3   Ash                           177 non-null    float64\n",
      " 4   Alcalinity of ash             177 non-null    float64\n",
      " 5   Magnesium                     177 non-null    int64  \n",
      " 6   Total phenols                 177 non-null    float64\n",
      " 7   Flavanoids                    177 non-null    float64\n",
      " 8   Non Flavanoid phenols         177 non-null    float64\n",
      " 9   Proanthocyanins               177 non-null    float64\n",
      " 10  Color intensity               177 non-null    float64\n",
      " 11  Hue                           177 non-null    float64\n",
      " 12  OD280/OD315 of diluted wines  177 non-null    float64\n",
      " 13  Proline                       177 non-null    int64  \n",
      "dtypes: float64(11), int64(3)\n",
      "memory usage: 19.5 KB\n"
     ]
    }
   ],
   "source": [
    "df.info()"
   ]
  },
  {
   "cell_type": "code",
   "execution_count": 21,
   "metadata": {},
   "outputs": [
    {
     "data": {
      "text/plain": [
       "Wine type                       0\n",
       "Alcohol                         0\n",
       "Malic acid                      0\n",
       "Ash                             0\n",
       "Alcalinity of ash               0\n",
       "Magnesium                       0\n",
       "Total phenols                   0\n",
       "Flavanoids                      0\n",
       "Non Flavanoid phenols           0\n",
       "Proanthocyanins                 0\n",
       "Color intensity                 0\n",
       "Hue                             0\n",
       "OD280/OD315 of diluted wines    0\n",
       "Proline                         0\n",
       "dtype: int64"
      ]
     },
     "execution_count": 21,
     "metadata": {},
     "output_type": "execute_result"
    }
   ],
   "source": [
    "df.isnull().sum()"
   ]
  },
  {
   "cell_type": "code",
   "execution_count": 22,
   "metadata": {},
   "outputs": [],
   "source": [
    "# Using the standard scaler method to get the values converted into integers between -3 and +3.\n",
    "X = df.iloc[:, 1:14].values\n",
    "from sklearn.preprocessing import StandardScaler\n",
    "X = StandardScaler().fit_transform(X)"
   ]
  },
  {
   "cell_type": "code",
   "execution_count": 23,
   "metadata": {},
   "outputs": [
    {
     "data": {
      "text/plain": [
       "(177, 13)"
      ]
     },
     "execution_count": 23,
     "metadata": {},
     "output_type": "execute_result"
    }
   ],
   "source": [
    "X.shape"
   ]
  },
  {
   "cell_type": "markdown",
   "metadata": {},
   "source": [
    "# 2D Principal Component Analysis"
   ]
  },
  {
   "cell_type": "code",
   "execution_count": 24,
   "metadata": {},
   "outputs": [],
   "source": [
    "# Using Principal Component Analysis or PCA in short to reduce the dimensionality of the data in order to optimize the result of the clustering.\n",
    "from sklearn.decomposition import PCA\n",
    "pca = PCA(n_components=2)\n",
    "principalComponents1 = pca.fit_transform(X)"
   ]
  },
  {
   "cell_type": "code",
   "execution_count": 25,
   "metadata": {},
   "outputs": [
    {
     "data": {
      "text/plain": [
       "array([[ 2.23024297,  0.30231277],\n",
       "       [ 2.53192196, -1.06225676],\n",
       "       [ 3.75467731, -2.80530871],\n",
       "       [ 1.0201307 , -0.88838036],\n",
       "       [ 3.04919938, -2.1700067 ],\n",
       "       [ 2.45822831, -1.20706466],\n",
       "       [ 2.06160512, -1.64048497],\n",
       "       [ 2.51844454, -0.96083709],\n",
       "       [ 2.76797089, -0.82452149],\n",
       "       [ 3.48916135, -1.35519047],\n",
       "       [ 1.76638133, -0.6467145 ],\n",
       "       [ 2.12870494, -0.71042819],\n",
       "       [ 3.46649467, -1.1821256 ],\n",
       "       [ 4.31363172, -2.15473286],\n",
       "       [ 2.30845048, -1.70092988],\n",
       "       [ 2.16745547, -2.36700104],\n",
       "       [ 1.90220844, -1.66778153],\n",
       "       [ 3.54012997, -2.57341412],\n",
       "       [ 2.09274066, -1.08886084],\n",
       "       [ 3.1319081 , -0.82827339],\n",
       "       [ 1.10804505, -0.25248228],\n",
       "       [ 2.55760384,  0.06025432],\n",
       "       [ 1.67255267,  0.49502043],\n",
       "       [ 1.78792909,  0.29470798],\n",
       "       [ 1.00222687, -0.95757325],\n",
       "       [ 1.79246479, -0.71100388],\n",
       "       [ 1.25516785,  0.0619388 ],\n",
       "       [ 2.20313645, -0.72205026],\n",
       "       [ 2.27398683, -0.22242744],\n",
       "       [ 2.51223477, -1.28306798],\n",
       "       [ 2.68519586, -1.51523154],\n",
       "       [ 1.64501308, -0.08373303],\n",
       "       [ 1.90224111, -1.66952014],\n",
       "       [ 1.42130848, -0.72585563],\n",
       "       [ 1.92515877, -0.20344976],\n",
       "       [ 1.39514757, -0.68329424],\n",
       "       [ 1.14008674, -0.14047148],\n",
       "       [ 1.52596172,  0.73736633],\n",
       "       [ 2.52872196, -1.83401991],\n",
       "       [ 2.59899338, -0.81251962],\n",
       "       [ 0.69107085, -0.1853551 ],\n",
       "       [ 3.08322733, -1.19398518],\n",
       "       [ 0.48029669, -0.33983812],\n",
       "       [ 2.12234776,  0.04279977],\n",
       "       [ 1.14107039, -1.79689671],\n",
       "       [ 2.73816159, -1.2290287 ],\n",
       "       [ 2.83615695, -0.68448616],\n",
       "       [ 2.01759308, -1.28112175],\n",
       "       [ 2.7116427 , -1.79115187],\n",
       "       [ 3.23402865, -0.20902061],\n",
       "       [ 2.87439604, -0.78417224],\n",
       "       [ 3.51199543, -1.65987191],\n",
       "       [ 2.2259525 , -1.91167864],\n",
       "       [ 2.15305567, -1.05004048],\n",
       "       [ 2.47635157, -1.36603153],\n",
       "       [ 2.74480414, -1.47559033],\n",
       "       [ 2.18479692, -1.24599008],\n",
       "       [ 3.14461992, -1.7772537 ],\n",
       "       [-0.89347977,  3.06190801],\n",
       "       [-1.51961494,  1.37834851],\n",
       "       [-1.81823296,  0.83347809],\n",
       "       [ 0.05512564,  1.24258734],\n",
       "       [ 2.09192254,  1.8920975 ],\n",
       "       [-0.5789596 ,  1.89971796],\n",
       "       [ 0.92558177,  0.74330347],\n",
       "       [ 2.28800128,  1.85323441],\n",
       "       [ 0.22876166,  2.42207045],\n",
       "       [-0.80125027,  0.20847835],\n",
       "       [ 1.99108531,  1.36646227],\n",
       "       [-1.5523202 ,  0.88708407],\n",
       "       [ 1.69124851,  0.92630461],\n",
       "       [-0.69605139,  1.06037078],\n",
       "       [ 2.58036214, -0.30468081],\n",
       "       [ 1.86768348,  1.25844259],\n",
       "       [-0.83266108,  2.44091613],\n",
       "       [ 0.40359327,  2.13553617],\n",
       "       [-1.43101297,  1.39179129],\n",
       "       [ 1.27464161,  0.74250523],\n",
       "       [ 0.4101286 ,  1.01671225],\n",
       "       [ 0.81320276,  3.35748359],\n",
       "       [ 1.07017169,  1.43284919],\n",
       "       [-0.44937791,  2.37657097],\n",
       "       [-2.51731021,  0.10858652],\n",
       "       [ 0.86981672,  1.46629052],\n",
       "       [ 0.82262339,  2.00923064],\n",
       "       [-0.76802261,  2.22838017],\n",
       "       [-0.51110168,  2.37433124],\n",
       "       [-1.07453318,  1.81115967],\n",
       "       [-0.50399535,  2.65974553],\n",
       "       [-1.31124431,  2.12544177],\n",
       "       [-1.52773342,  1.86621523],\n",
       "       [-1.90072666,  1.57117428],\n",
       "       [ 0.79056143,  2.3025426 ],\n",
       "       [ 0.9989761 ,  2.2061751 ],\n",
       "       [ 2.54738234, -0.21440223],\n",
       "       [-0.53118357,  0.3630994 ],\n",
       "       [ 1.07397322,  2.54397551],\n",
       "       [ 2.29024085,  1.3974992 ],\n",
       "       [ 1.45409066,  2.14331127],\n",
       "       [ 0.8375519 ,  2.35613634],\n",
       "       [-0.51305733,  2.28920301],\n",
       "       [-0.12723061,  1.16668222],\n",
       "       [-0.61536912,  2.67697372],\n",
       "       [ 0.43497615,  2.09116681],\n",
       "       [-1.73444494,  1.73966541],\n",
       "       [-0.32427811,  2.17248326],\n",
       "       [-1.5888709 ,  1.36667163],\n",
       "       [ 0.123098  ,  2.3022219 ],\n",
       "       [ 1.61791755,  1.44567547],\n",
       "       [ 1.45726543,  1.40073651],\n",
       "       [-0.23890288,  1.92526785],\n",
       "       [-1.27665922,  0.77270161],\n",
       "       [-0.41499111,  2.26568938],\n",
       "       [-0.45065081,  1.94294307],\n",
       "       [ 0.54139419,  3.8568035 ],\n",
       "       [-0.20498599,  2.82193091],\n",
       "       [-0.0729984 ,  1.92110439],\n",
       "       [-2.40448838,  1.27712345],\n",
       "       [-0.50815969,  2.22569823],\n",
       "       [ 0.77987484,  1.4038824 ],\n",
       "       [ 1.36652399, -0.26145845],\n",
       "       [-1.14506231,  0.67653606],\n",
       "       [-0.42827684,  0.62332699],\n",
       "       [ 1.0247241 ,  1.44438967],\n",
       "       [-0.05143996,  2.1102582 ],\n",
       "       [ 0.07538255,  1.2642793 ],\n",
       "       [-1.55993845,  1.22073965],\n",
       "       [-0.43841321,  1.93817633],\n",
       "       [-1.755462  ,  1.16780357],\n",
       "       [-1.32428406, -0.17722827],\n",
       "       [-2.37655439, -0.36310732],\n",
       "       [-2.92579835, -0.24637916],\n",
       "       [-2.13716639, -0.36273737],\n",
       "       [-2.35121439,  0.47475962],\n",
       "       [-3.0531239 , -0.32872653],\n",
       "       [-3.89923965, -0.12253823],\n",
       "       [-3.92146674, -0.62320542],\n",
       "       [-3.08235716, -0.32525708],\n",
       "       [-2.35895565, -0.27588368],\n",
       "       [-2.764957  , -0.26101408],\n",
       "       [-2.27351064, -0.35344021],\n",
       "       [-2.97458054, -0.46745567],\n",
       "       [-2.36193359, -0.4669193 ],\n",
       "       [-2.20681631, -1.1406727 ],\n",
       "       [-2.61743092, -0.54761436],\n",
       "       [-4.27191366, -0.61416807],\n",
       "       [-3.57327927, -1.23545086],\n",
       "       [-2.80423095, -1.54696015],\n",
       "       [-2.90607992, -2.01893515],\n",
       "       [-2.33247599, -2.34461958],\n",
       "       [-2.55578663, -2.02320281],\n",
       "       [-1.81375585, -1.52202786],\n",
       "       [-2.76500454, -2.11212493],\n",
       "       [-2.73013413, -0.38901085],\n",
       "       [-3.60242822, -1.7688379 ],\n",
       "       [-2.89083274, -1.8980322 ],\n",
       "       [-3.38308624, -1.28151003],\n",
       "       [-1.06059682, -3.50585592],\n",
       "       [-1.61171861, -2.39054338],\n",
       "       [-3.12911042, -0.70836721],\n",
       "       [-2.23928358, -1.16530165],\n",
       "       [-2.83779448, -0.53184429],\n",
       "       [-2.59226184, -0.67975307],\n",
       "       [-2.94879996, -1.53195097],\n",
       "       [-3.52184398, -0.85292527],\n",
       "       [-2.41581922, -2.57534772],\n",
       "       [-2.92351427, -1.24652035],\n",
       "       [-2.18547501, -2.06264016],\n",
       "       [-2.38683089, -2.56923982],\n",
       "       [-3.19522322,  0.28055761],\n",
       "       [-3.67033271, -0.81093563],\n",
       "       [-2.47138831, -2.17438438],\n",
       "       [-3.37288802, -2.18546141],\n",
       "       [-2.60215457, -1.73980444],\n",
       "       [-2.69214577, -2.73987492],\n",
       "       [-2.39839363, -2.27992875],\n",
       "       [-3.21585159, -2.74059303]])"
      ]
     },
     "execution_count": 25,
     "metadata": {},
     "output_type": "execute_result"
    }
   ],
   "source": [
    "principalComponents1"
   ]
  },
  {
   "cell_type": "code",
   "execution_count": 26,
   "metadata": {},
   "outputs": [
    {
     "data": {
      "text/html": [
       "<div>\n",
       "<style scoped>\n",
       "    .dataframe tbody tr th:only-of-type {\n",
       "        vertical-align: middle;\n",
       "    }\n",
       "\n",
       "    .dataframe tbody tr th {\n",
       "        vertical-align: top;\n",
       "    }\n",
       "\n",
       "    .dataframe thead th {\n",
       "        text-align: right;\n",
       "    }\n",
       "</style>\n",
       "<table border=\"1\" class=\"dataframe\">\n",
       "  <thead>\n",
       "    <tr style=\"text-align: right;\">\n",
       "      <th></th>\n",
       "      <th>component1</th>\n",
       "      <th>component2</th>\n",
       "    </tr>\n",
       "  </thead>\n",
       "  <tbody>\n",
       "    <tr>\n",
       "      <th>0</th>\n",
       "      <td>2.230243</td>\n",
       "      <td>0.302313</td>\n",
       "    </tr>\n",
       "    <tr>\n",
       "      <th>1</th>\n",
       "      <td>2.531922</td>\n",
       "      <td>-1.062257</td>\n",
       "    </tr>\n",
       "    <tr>\n",
       "      <th>2</th>\n",
       "      <td>3.754677</td>\n",
       "      <td>-2.805309</td>\n",
       "    </tr>\n",
       "    <tr>\n",
       "      <th>3</th>\n",
       "      <td>1.020131</td>\n",
       "      <td>-0.888380</td>\n",
       "    </tr>\n",
       "    <tr>\n",
       "      <th>4</th>\n",
       "      <td>3.049199</td>\n",
       "      <td>-2.170007</td>\n",
       "    </tr>\n",
       "  </tbody>\n",
       "</table>\n",
       "</div>"
      ],
      "text/plain": [
       "   component1  component2\n",
       "0    2.230243    0.302313\n",
       "1    2.531922   -1.062257\n",
       "2    3.754677   -2.805309\n",
       "3    1.020131   -0.888380\n",
       "4    3.049199   -2.170007"
      ]
     },
     "execution_count": 26,
     "metadata": {},
     "output_type": "execute_result"
    }
   ],
   "source": [
    "# Creating a dataframe featuring the two Principal components that we acquired through PCA.\n",
    "PCA_dataset1 = pd.DataFrame(data = principalComponents1, columns = ['component1', 'component2'] )\n",
    "PCA_dataset1.head()"
   ]
  },
  {
   "cell_type": "code",
   "execution_count": 27,
   "metadata": {},
   "outputs": [],
   "source": [
    "# Extracting the two features from above in order to add them to the dataframe.\n",
    "principal_component1 = PCA_dataset1['component1']\n",
    "principal_component2 = PCA_dataset1['component2']"
   ]
  },
  {
   "cell_type": "code",
   "execution_count": 28,
   "metadata": {},
   "outputs": [
    {
     "data": {
      "text/plain": [
       "<matplotlib.collections.PathCollection at 0x7fb7e9cba280>"
      ]
     },
     "execution_count": 28,
     "metadata": {},
     "output_type": "execute_result"
    },
    {
     "data": {
      "text/plain": [
       "<Figure size 432x288 with 0 Axes>"
      ]
     },
     "metadata": {},
     "output_type": "display_data"
    },
    {
     "data": {
      "image/png": "[encoded data removed]",
      "text/plain": [
       "<Figure size 720x720 with 1 Axes>"
      ]
     },
     "metadata": {
      "needs_background": "light"
     },
     "output_type": "display_data"
    }
   ],
   "source": [
    "# Visualizing the effects of the Principal Component Analysis.\n",
    "plt.figure()\n",
    "plt.figure(figsize=(10,10))\n",
    "plt.xlabel('Component 1')\n",
    "plt.ylabel('Component 2')\n",
    "plt.title('2 Component PCA')\n",
    "plt.scatter(PCA_dataset1['component1'], PCA_dataset1['component2'])"
   ]
  },
  {
   "cell_type": "code",
   "execution_count": 29,
   "metadata": {},
   "outputs": [
    {
     "name": "stdout",
     "output_type": "stream",
     "text": [
      "[0.99823981 0.00160387]\n",
      "[111747.11137141    179.5436153 ]\n"
     ]
    },
    {
     "data": {
      "image/png": "[encoded data removed]",
      "text/plain": [
       "<Figure size 432x288 with 1 Axes>"
      ]
     },
     "metadata": {
      "needs_background": "light"
     },
     "output_type": "display_data"
    }
   ],
   "source": [
    "# Plot test data using PCA with dimentions decreased to 2D\n",
    "pca2d = PCA(n_components=2) \n",
    "pca2d.fit(test_data_no_label) \n",
    "print(pca2d.explained_variance_ratio_) \n",
    "print(pca2d.explained_variance_)\n",
    "\n",
    "test_pca_2d = pca2d.transform(test_data_no_label) \n",
    "fig2 = plt.figure() \n",
    "for i in range(len(labels)):\n",
    "    if labels[i] == 1:\n",
    "        c = 'r'\n",
    "        target_name = 'wine 1'\n",
    "    elif labels[i] == 2:\n",
    "        c = 'g'\n",
    "        target_name = 'wine 2'\n",
    "    else:\n",
    "        c = 'b'\n",
    "        target_name = 'wine 3'\n",
    "    plt.scatter(test_pca_2d[i, 0], test_pca_2d[i, 1],marker='o',c=c, label=target_name)\n",
    "plt.show()"
   ]
  },
  {
   "cell_type": "markdown",
   "metadata": {},
   "source": [
    "# 3D Principal Component Analysis"
   ]
  },
  {
   "cell_type": "code",
   "execution_count": 30,
   "metadata": {},
   "outputs": [],
   "source": [
    "# Using Principal Component Analysis or PCA in short to reduce the dimensionality of the data in order to optimize the result of the clustering.\n",
    "from sklearn.decomposition import PCA\n",
    "pca = PCA(n_components=3)\n",
    "principalComponents2 = pca.fit_transform(X)"
   ]
  },
  {
   "cell_type": "code",
   "execution_count": 31,
   "metadata": {},
   "outputs": [
    {
     "data": {
      "text/plain": [
       "array([[ 2.23024297,  0.30231277, -2.03292031],\n",
       "       [ 2.53192196, -1.06225676,  0.97672434],\n",
       "       [ 3.75467731, -2.80530871, -0.18037013],\n",
       "       [ 1.0201307 , -0.88838036,  2.02386977],\n",
       "       [ 3.04919938, -2.1700067 , -0.63874711],\n",
       "       [ 2.45822831, -1.20706466, -0.9882358 ],\n",
       "       [ 2.06160512, -1.64048497,  0.14376754],\n",
       "       [ 2.51844454, -0.96083709, -1.78237967],\n",
       "       [ 2.76797089, -0.82452149, -0.98895639],\n",
       "       [ 3.48916135, -1.35519047, -0.42931898],\n",
       "       [ 1.76638133, -0.6467145 , -1.20222501],\n",
       "       [ 2.12870494, -0.71042819, -0.88027853],\n",
       "       [ 3.46649467, -1.1821256 , -1.2273527 ],\n",
       "       [ 4.31363172, -2.15473286, -1.27789771],\n",
       "       [ 2.30845048, -1.70092988,  0.20695688],\n",
       "       [ 2.16745547, -2.36700104,  0.82621814],\n",
       "       [ 1.90220844, -1.66778153,  0.78746684],\n",
       "       [ 3.54012997, -2.57341412, -0.49894943],\n",
       "       [ 2.09274066, -1.08886084, -0.16408621],\n",
       "       [ 3.1319081 , -0.82827339, -0.35847133],\n",
       "       [ 1.10804505, -0.25248228,  0.9361854 ],\n",
       "       [ 2.55760384,  0.06025432, -0.31737396],\n",
       "       [ 1.67255267,  0.49502043,  0.13642053],\n",
       "       [ 1.78792909,  0.29470798,  0.8822433 ],\n",
       "       [ 1.00222687, -0.95757325,  3.81665994],\n",
       "       [ 1.79246479, -0.71100388, -0.1009359 ],\n",
       "       [ 1.25516785,  0.0619388 , -1.39323652],\n",
       "       [ 2.20313645, -0.72205026,  1.3820587 ],\n",
       "       [ 2.27398683, -0.22242744, -1.0975622 ],\n",
       "       [ 2.51223477, -1.28306798,  1.37477897],\n",
       "       [ 2.68519586, -1.51523154, -0.33623527],\n",
       "       [ 1.64501308, -0.08373303, -0.17563052],\n",
       "       [ 1.90224111, -1.66952014,  1.16761576],\n",
       "       [ 1.42130848, -0.72585563,  0.47349458],\n",
       "       [ 1.92515877, -0.20344976,  0.44848863],\n",
       "       [ 1.39514757, -0.68329424,  0.44642027],\n",
       "       [ 1.14008674, -0.14047148, -0.05015849],\n",
       "       [ 1.52596172,  0.73736633, -1.43285859],\n",
       "       [ 2.52872196, -1.83401991, -0.33732603],\n",
       "       [ 2.59899338, -0.81251962, -0.11484824],\n",
       "       [ 0.69107085, -0.1853551 , -0.78538178],\n",
       "       [ 3.08322733, -1.19398518, -0.32212345],\n",
       "       [ 0.48029669, -0.33983812, -0.19888578],\n",
       "       [ 2.12234776,  0.04279977, -0.65081101],\n",
       "       [ 1.14107039, -1.79689671,  0.02874591],\n",
       "       [ 2.73816159, -1.2290287 , -0.54522207],\n",
       "       [ 2.83615695, -0.68448616, -1.15623453],\n",
       "       [ 2.01759308, -1.28112175, -0.06264958],\n",
       "       [ 2.7116427 , -1.79115187, -0.64575792],\n",
       "       [ 3.23402865, -0.20902061, -1.97730306],\n",
       "       [ 2.87439604, -0.78417224, -0.00817715],\n",
       "       [ 3.51199543, -1.65987191, -0.52913773],\n",
       "       [ 2.2259525 , -1.91167864,  0.33007453],\n",
       "       [ 2.15305567, -1.05004048, -0.95272271],\n",
       "       [ 2.47635157, -1.36603153,  0.51799415],\n",
       "       [ 2.74480414, -1.47559033, -0.6101254 ],\n",
       "       [ 2.18479692, -1.24599008,  0.249019  ],\n",
       "       [ 3.14461992, -1.7772537 , -0.29135868],\n",
       "       [-0.89347977,  3.06190801, -4.58514736],\n",
       "       [-1.51961494,  1.37834851, -0.88694037],\n",
       "       [-1.81823296,  0.83347809, -1.60728093],\n",
       "       [ 0.05512564,  1.24258734, -1.78975863],\n",
       "       [ 2.09192254,  1.8920975 , -0.01389886],\n",
       "       [-0.5789596 ,  1.89971796,  0.67083691],\n",
       "       [ 0.92558177,  0.74330347,  0.5645513 ],\n",
       "       [ 2.28800128,  1.85323441, -2.03634831],\n",
       "       [ 0.22876166,  2.42207045, -1.07094112],\n",
       "       [-0.80125027,  0.20847835, -0.71615181],\n",
       "       [ 1.99108531,  1.36646227, -1.20614687],\n",
       "       [-1.5523202 ,  0.88708407, -0.62350459],\n",
       "       [ 1.69124851,  0.92630461,  1.93845059],\n",
       "       [-0.69605139,  1.06037078,  0.07881235],\n",
       "       [ 2.58036214, -0.30468081,  3.38814284],\n",
       "       [ 1.86768348,  1.25844259,  0.46068551],\n",
       "       [-0.83266108,  2.44091613, -1.56053405],\n",
       "       [ 0.40359327,  2.13553617, -2.45006701],\n",
       "       [-1.43101297,  1.39179129, -0.21916906],\n",
       "       [ 1.27464161,  0.74250523, -1.16529328],\n",
       "       [ 0.4101286 ,  1.01671225,  1.7941396 ],\n",
       "       [ 0.81320276,  3.35748359, -0.36158507],\n",
       "       [ 1.07017169,  1.43284919, -0.36791121],\n",
       "       [-0.44937791,  2.37657097,  1.32294528],\n",
       "       [-2.51731021,  0.10858652,  0.47121393],\n",
       "       [ 0.86981672,  1.46629052,  0.61079994],\n",
       "       [ 0.82262339,  2.00923064, -0.25696806],\n",
       "       [-0.76802261,  2.22838017,  0.76719048],\n",
       "       [-0.51110168,  2.37433124,  2.30175883],\n",
       "       [-1.07453318,  1.81115967,  0.95315657],\n",
       "       [-0.50399535,  2.65974553,  0.83926845],\n",
       "       [-1.31124431,  2.12544177, -0.05686429],\n",
       "       [-1.52773342,  1.86621523,  0.77820901],\n",
       "       [-1.90072666,  1.57117428, -0.09715357],\n",
       "       [ 0.79056143,  2.3025426 ,  0.11329933],\n",
       "       [ 0.9989761 ,  2.2061751 ,  0.14274801],\n",
       "       [ 2.54738234, -0.21440223,  0.81563744],\n",
       "       [-0.53118357,  0.3630994 ,  1.32499802],\n",
       "       [ 1.07397322,  2.54397551, -1.09234945],\n",
       "       [ 2.29024085,  1.3974992 , -0.23612317],\n",
       "       [ 1.45409066,  2.14331127,  0.74035498],\n",
       "       [ 0.8375519 ,  2.35613634, -1.56252472],\n",
       "       [-0.51305733,  2.28920301, -1.49640464],\n",
       "       [-0.12723061,  1.16668222,  1.0062211 ],\n",
       "       [-0.61536912,  2.67697372, -0.76312627],\n",
       "       [ 0.43497615,  2.09116681, -0.47051949],\n",
       "       [-1.73444494,  1.73966541,  0.94823855],\n",
       "       [-0.32427811,  2.17248326, -0.48311155],\n",
       "       [-1.5888709 ,  1.36667163,  0.28510562],\n",
       "       [ 0.123098  ,  2.3022219 , -0.45730884],\n",
       "       [ 1.61791755,  1.44567547,  1.77548493],\n",
       "       [ 1.45726543,  1.40073651,  0.16065739],\n",
       "       [-0.23890288,  1.92526785,  0.07840222],\n",
       "       [-1.27665922,  0.77270161,  1.98897707],\n",
       "       [-0.41499111,  2.26568938,  1.05312232],\n",
       "       [-0.45065081,  1.94294307,  1.31688355],\n",
       "       [ 0.54139419,  3.8568035 ,  1.33456731],\n",
       "       [-0.20498599,  2.82193091, -0.29729512],\n",
       "       [-0.0729984 ,  1.92110439,  0.6987639 ],\n",
       "       [-2.40448838,  1.27712345, -1.90479465],\n",
       "       [-0.50815969,  2.22569823, -0.35201661],\n",
       "       [ 0.77987484,  1.4038824 ,  1.1284599 ],\n",
       "       [ 1.36652399, -0.26145845,  5.34759335],\n",
       "       [-1.14506231,  0.67653606,  3.01422004],\n",
       "       [-0.42827684,  0.62332699,  0.48883372],\n",
       "       [ 1.0247241 ,  1.44438967,  1.48593246],\n",
       "       [-0.05143996,  2.1102582 ,  0.43478522],\n",
       "       [ 0.07538255,  1.2642793 ,  0.68651108],\n",
       "       [-1.55993845,  1.22073965,  3.3572734 ],\n",
       "       [-0.43841321,  1.93817633,  1.29717134],\n",
       "       [-1.755462  ,  1.16780357,  0.78012093],\n",
       "       [-1.32428406, -0.17722827, -1.1702866 ],\n",
       "       [-2.37655439, -0.36310732, -0.7181545 ],\n",
       "       [-2.92579835, -0.24637916, -0.16094299],\n",
       "       [-2.13716639, -0.36273737, -0.44574534],\n",
       "       [-2.35121439,  0.47475962, -1.10858869],\n",
       "       [-3.0531239 , -0.32872653, -1.09896969],\n",
       "       [-3.89923965, -0.12253823,  0.21782866],\n",
       "       [-3.92146674, -0.62320542,  1.71260746],\n",
       "       [-3.08235716, -0.32525708, -1.02983923],\n",
       "       [-2.35895565, -0.27588368,  1.24012539],\n",
       "       [-2.764957  , -0.26101408,  0.60570249],\n",
       "       [-2.27351064, -0.35344021, -0.97204566],\n",
       "       [-2.97458054, -0.46745567,  0.94140963],\n",
       "       [-2.36193359, -0.4669193 , -0.25657229],\n",
       "       [-2.20681631, -1.1406727 , -1.22779301],\n",
       "       [-2.61743092, -0.54761436, -0.8474042 ],\n",
       "       [-4.27191366, -0.61416807, -1.45927021],\n",
       "       [-3.57327927, -1.23545086, -0.10951642],\n",
       "       [-2.80423095, -1.54696015, -0.46962763],\n",
       "       [-2.90607992, -2.01893515, -0.48097949],\n",
       "       [-2.33247599, -2.34461958,  0.45372103],\n",
       "       [-2.55578663, -2.02320281, -0.29538775],\n",
       "       [-1.81375585, -1.52202786,  1.37230182],\n",
       "       [-2.76500454, -2.11212493, -0.95881005],\n",
       "       [-2.73013413, -0.38901085, -1.17969844],\n",
       "       [-3.60242822, -1.7688379 , -0.0894951 ],\n",
       "       [-2.89083274, -1.8980322 , -0.78116506],\n",
       "       [-3.38308624, -1.28151003,  1.60426091],\n",
       "       [-1.06059682, -3.50585592,  1.16215185],\n",
       "       [-1.61171861, -2.39054338,  0.54707751],\n",
       "       [-3.12911042, -0.70836721, -0.08958428],\n",
       "       [-2.23928358, -1.16530165, -0.10422073],\n",
       "       [-2.83779448, -0.53184429,  0.80583247],\n",
       "       [-2.59226184, -0.67975307, -0.87876724],\n",
       "       [-2.94879996, -1.53195097, -0.98059081],\n",
       "       [-3.52184398, -0.85292527, -0.46453874],\n",
       "       [-2.41581922, -2.57534772,  0.43552432],\n",
       "       [-2.92351427, -1.24652035, -1.2102744 ],\n",
       "       [-2.18547501, -2.06264016,  0.768523  ],\n",
       "       [-2.38683089, -2.56923982,  1.42652828],\n",
       "       [-3.19522322,  0.28055761, -0.84124132],\n",
       "       [-3.67033271, -0.81093563, -1.33673945],\n",
       "       [-2.47138831, -2.17438438, -0.92074161],\n",
       "       [-3.37288802, -2.18546141, -0.34112817],\n",
       "       [-2.60215457, -1.73980444,  0.21240464],\n",
       "       [-2.69214577, -2.73987492, -0.92311154],\n",
       "       [-2.39839363, -2.27992875, -0.53748142],\n",
       "       [-3.21585159, -2.74059303,  1.01246947]])"
      ]
     },
     "execution_count": 31,
     "metadata": {},
     "output_type": "execute_result"
    }
   ],
   "source": [
    "principalComponents2"
   ]
  },
  {
   "cell_type": "code",
   "execution_count": 32,
   "metadata": {},
   "outputs": [
    {
     "data": {
      "text/html": [
       "<div>\n",
       "<style scoped>\n",
       "    .dataframe tbody tr th:only-of-type {\n",
       "        vertical-align: middle;\n",
       "    }\n",
       "\n",
       "    .dataframe tbody tr th {\n",
       "        vertical-align: top;\n",
       "    }\n",
       "\n",
       "    .dataframe thead th {\n",
       "        text-align: right;\n",
       "    }\n",
       "</style>\n",
       "<table border=\"1\" class=\"dataframe\">\n",
       "  <thead>\n",
       "    <tr style=\"text-align: right;\">\n",
       "      <th></th>\n",
       "      <th>component3</th>\n",
       "      <th>component4</th>\n",
       "      <th>component5</th>\n",
       "    </tr>\n",
       "  </thead>\n",
       "  <tbody>\n",
       "    <tr>\n",
       "      <th>0</th>\n",
       "      <td>2.230243</td>\n",
       "      <td>0.302313</td>\n",
       "      <td>-2.032920</td>\n",
       "    </tr>\n",
       "    <tr>\n",
       "      <th>1</th>\n",
       "      <td>2.531922</td>\n",
       "      <td>-1.062257</td>\n",
       "      <td>0.976724</td>\n",
       "    </tr>\n",
       "    <tr>\n",
       "      <th>2</th>\n",
       "      <td>3.754677</td>\n",
       "      <td>-2.805309</td>\n",
       "      <td>-0.180370</td>\n",
       "    </tr>\n",
       "    <tr>\n",
       "      <th>3</th>\n",
       "      <td>1.020131</td>\n",
       "      <td>-0.888380</td>\n",
       "      <td>2.023870</td>\n",
       "    </tr>\n",
       "    <tr>\n",
       "      <th>4</th>\n",
       "      <td>3.049199</td>\n",
       "      <td>-2.170007</td>\n",
       "      <td>-0.638747</td>\n",
       "    </tr>\n",
       "  </tbody>\n",
       "</table>\n",
       "</div>"
      ],
      "text/plain": [
       "   component3  component4  component5\n",
       "0    2.230243    0.302313   -2.032920\n",
       "1    2.531922   -1.062257    0.976724\n",
       "2    3.754677   -2.805309   -0.180370\n",
       "3    1.020131   -0.888380    2.023870\n",
       "4    3.049199   -2.170007   -0.638747"
      ]
     },
     "execution_count": 32,
     "metadata": {},
     "output_type": "execute_result"
    }
   ],
   "source": [
    "# Creating a dataframe featuring the three Principal components that we acquired through PCA.\n",
    "PCA_dataset2 = pd.DataFrame(data = principalComponents2, columns = ['component3', 'component4', 'component5'] )\n",
    "PCA_dataset2.head()"
   ]
  },
  {
   "cell_type": "code",
   "execution_count": 33,
   "metadata": {},
   "outputs": [],
   "source": [
    "# Extracting the three features from above in order to add them to the dataframe.\n",
    "principal_component3 = PCA_dataset2['component3']\n",
    "principal_component4 = PCA_dataset2['component4']\n",
    "principal_component5 = PCA_dataset2['component5']"
   ]
  },
  {
   "cell_type": "code",
   "execution_count": 34,
   "metadata": {},
   "outputs": [
    {
     "name": "stderr",
     "output_type": "stream",
     "text": [
      "/var/folders/v8/g6gkkl694rg09vv_x6g7ppqc0000gn/T/ipykernel_41986/2320994751.py:2: MatplotlibDeprecationWarning: Calling gca() with keyword arguments was deprecated in Matplotlib 3.4. Starting two minor releases later, gca() will take no keyword arguments. The gca() function should only be used to get the current axes, or if no axes exist, create new axes with default keyword arguments. To create a new axes with non-default arguments, use plt.axes() or plt.subplot().\n",
      "  ax = plt.figure(figsize=(10,10)).gca(projection='3d')\n"
     ]
    },
    {
     "data": {
      "image/png": "[encoded data removed]",
      "text/plain": [
       "<Figure size 720x720 with 1 Axes>"
      ]
     },
     "metadata": {
      "needs_background": "light"
     },
     "output_type": "display_data"
    }
   ],
   "source": [
    "# Visualizing the results of the 3D PCA.\n",
    "ax = plt.figure(figsize=(10,10)).gca(projection='3d')\n",
    "plt.title('3D Principal Component Analysis (PCA)')\n",
    "ax.scatter(\n",
    "    xs=principal_component3, \n",
    "    ys=principal_component4, \n",
    "    zs=principal_component5, \n",
    ")\n",
    "ax.set_xlabel('pca-one')\n",
    "ax.set_ylabel('pca-two')\n",
    "ax.set_zlabel('pca-three')\n",
    "plt.show()"
   ]
  },
  {
   "cell_type": "code",
   "execution_count": 35,
   "metadata": {},
   "outputs": [
    {
     "name": "stdout",
     "output_type": "stream",
     "text": [
      "[9.98239814e-01 1.60386772e-03 9.56601734e-05]\n",
      "[1.11747111e+05 1.79543615e+02 1.07085972e+01]\n"
     ]
    },
    {
     "name": "stderr",
     "output_type": "stream",
     "text": [
      "/var/folders/v8/g6gkkl694rg09vv_x6g7ppqc0000gn/T/ipykernel_41986/3145253005.py:9: MatplotlibDeprecationWarning: Axes3D(fig) adding itself to the figure is deprecated since 3.4. Pass the keyword argument auto_add_to_figure=False and use fig.add_axes(ax) to suppress this warning. The default value of auto_add_to_figure will change to False in mpl3.5 and True values will no longer work in 3.6.  This is consistent with other Axes classes.\n",
      "  ax = Axes3D(fig1, rect=[0, 0, 1, 1], elev=30, azim=20)\n"
     ]
    },
    {
     "data": {
      "image/png": "[encoded data removed]",
      "text/plain": [
       "<Figure size 432x288 with 1 Axes>"
      ]
     },
     "metadata": {
      "needs_background": "light"
     },
     "output_type": "display_data"
    }
   ],
   "source": [
    "# Plot test data using PCA with dimentions decreased to 3D\n",
    "pca = PCA(n_components=3) \n",
    "pca.fit(test_data_no_label) \n",
    "print(pca.explained_variance_ratio_) \n",
    "print(pca.explained_variance_)\n",
    "\n",
    "test_pca_3d = pca.transform(test_data_no_label) \n",
    "fig1 = plt.figure() \n",
    "ax = Axes3D(fig1, rect=[0, 0, 1, 1], elev=30, azim=20)\n",
    "for i in range(len(labels)):\n",
    "    if labels[i] == 1:\n",
    "        c = 'r'\n",
    "        target_name = 'wine 1'\n",
    "    elif labels[i] == 2:\n",
    "        c = 'g'\n",
    "        target_name = 'wine 2'\n",
    "    else:\n",
    "        c = 'b'\n",
    "        target_name = 'wine 3'\n",
    "    ax.scatter(test_pca_3d[i, 0], test_pca_3d[i, 1],test_pca_3d[i, 2],marker='o',c=c, label=target_name)"
   ]
  },
  {
   "cell_type": "markdown",
   "metadata": {},
   "source": [
    "# 2D T-distributed Stochastic Neighbour Embedding"
   ]
  },
  {
   "cell_type": "code",
   "execution_count": 36,
   "metadata": {},
   "outputs": [
    {
     "name": "stderr",
     "output_type": "stream",
     "text": [
      "/Library/Frameworks/Python.framework/Versions/3.9/lib/python3.9/site-packages/sklearn/manifold/_t_sne.py:780: FutureWarning: The default initialization in TSNE will change from 'random' to 'pca' in 1.2.\n",
      "  warnings.warn(\n",
      "/Library/Frameworks/Python.framework/Versions/3.9/lib/python3.9/site-packages/sklearn/manifold/_t_sne.py:790: FutureWarning: The default learning rate in TSNE will change from 200.0 to 'auto' in 1.2.\n",
      "  warnings.warn(\n"
     ]
    },
    {
     "name": "stdout",
     "output_type": "stream",
     "text": [
      "[t-SNE] Computing 121 nearest neighbors...\n",
      "[t-SNE] Indexed 177 samples in 0.001s...\n",
      "[t-SNE] Computed neighbors for 177 samples in 0.010s...\n",
      "[t-SNE] Computed conditional probabilities for sample 177 / 177\n",
      "[t-SNE] Mean sigma: 1.846523\n",
      "[t-SNE] KL divergence after 250 iterations with early exaggeration: 55.156712\n",
      "[t-SNE] KL divergence after 300 iterations: 0.341117\n"
     ]
    }
   ],
   "source": [
    "# Implementing t-SNE.\n",
    "from sklearn.manifold import TSNE\n",
    "tsne = TSNE(n_components=2, verbose=1, perplexity=40, n_iter=300)\n",
    "tsne_results1 = tsne.fit_transform(X)"
   ]
  },
  {
   "cell_type": "code",
   "execution_count": 37,
   "metadata": {},
   "outputs": [
    {
     "data": {
      "text/plain": [
       "array([[  6.183903  ,   6.514266  ],\n",
       "       [ 10.474127  ,   8.062168  ],\n",
       "       [  9.330258  ,  10.671681  ],\n",
       "       [ 10.915156  ,   4.2071037 ],\n",
       "       [  9.790435  ,  10.044191  ],\n",
       "       [  8.194197  ,   7.5757675 ],\n",
       "       [ 10.387368  ,   5.996635  ],\n",
       "       [  7.883947  ,  10.547505  ],\n",
       "       [  8.050135  ,   8.615164  ],\n",
       "       [ 10.641069  ,   9.402958  ],\n",
       "       [  8.068661  ,   6.6770453 ],\n",
       "       [  8.494415  ,   7.0598807 ],\n",
       "       [  9.791025  ,  11.940521  ],\n",
       "       [ 10.364619  ,  11.339576  ],\n",
       "       [ 10.634011  ,   6.8612957 ],\n",
       "       [ 11.476932  ,   7.454349  ],\n",
       "       [ 11.415117  ,   6.8363805 ],\n",
       "       [ 10.998435  ,  10.2081    ],\n",
       "       [  5.3298206 ,   8.457665  ],\n",
       "       [  6.224229  ,   9.342549  ],\n",
       "       [  4.5544324 ,   5.369895  ],\n",
       "       [  7.0598907 ,   6.8378396 ],\n",
       "       [  7.438588  ,   4.9138594 ],\n",
       "       [  7.5667562 ,   4.467052  ],\n",
       "       [ 11.454376  ,   3.5902073 ],\n",
       "       [  9.02819   ,   6.4448833 ],\n",
       "       [  6.478599  ,   5.6792636 ],\n",
       "       [ 10.402543  ,   5.125587  ],\n",
       "       [  7.3228555 ,   7.438009  ],\n",
       "       [ 11.433209  ,   8.201012  ],\n",
       "       [ 10.239062  ,   9.050516  ],\n",
       "       [  8.333651  ,   5.720388  ],\n",
       "       [ 11.873378  ,   5.9614444 ],\n",
       "       [  9.200407  ,   5.4495955 ],\n",
       "       [  7.577108  ,   6.110182  ],\n",
       "       [  9.570105  ,   4.8038373 ],\n",
       "       [  8.39713   ,   5.031251  ],\n",
       "       [  6.3728337 ,   5.1975174 ],\n",
       "       [  5.033876  ,   9.191041  ],\n",
       "       [  6.785276  ,   9.216366  ],\n",
       "       [  4.3678775 ,   6.179504  ],\n",
       "       [  8.081582  ,   9.352448  ],\n",
       "       [  4.141193  ,   5.99572   ],\n",
       "       [  6.433399  ,   7.8494253 ],\n",
       "       [  4.513954  ,   7.4984994 ],\n",
       "       [  6.604888  ,  10.487409  ],\n",
       "       [  7.5164065 ,   8.8579645 ],\n",
       "       [  9.276782  ,   8.401973  ],\n",
       "       [  9.67776   ,   9.432856  ],\n",
       "       [  9.169189  ,   3.011507  ],\n",
       "       [  9.109019  ,   7.6503406 ],\n",
       "       [  8.495234  ,  10.299895  ],\n",
       "       [ 10.80969   ,   6.7383165 ],\n",
       "       [  6.8920527 ,   8.324488  ],\n",
       "       [  9.945277  ,   8.272254  ],\n",
       "       [  7.3718443 ,   9.340769  ],\n",
       "       [  9.832368  ,   6.9218116 ],\n",
       "       [  8.977594  ,   9.5977    ],\n",
       "       [  3.0605884 ,  -4.6823864 ],\n",
       "       [ -6.968185  ,  -2.6732082 ],\n",
       "       [ -7.7680674 ,  -3.1667285 ],\n",
       "       [ -0.65721315,   1.5153675 ],\n",
       "       [  5.209551  ,  -0.4864    ],\n",
       "       [ -4.1692667 ,  -2.5076942 ],\n",
       "       [  5.336507  ,   2.4003222 ],\n",
       "       [  5.374557  ,  -1.78924   ],\n",
       "       [  2.4659183 ,  -2.2789826 ],\n",
       "       [ -7.2195582 ,  -2.7224374 ],\n",
       "       [  1.3250941 ,   8.342232  ],\n",
       "       [ -6.014512  ,  -4.146873  ],\n",
       "       [  7.2510486 ,   2.4063296 ],\n",
       "       [ -0.6993573 ,   0.3582476 ],\n",
       "       [ 12.54612   ,   4.0445414 ],\n",
       "       [  4.9993844 ,   0.73686755],\n",
       "       [  2.01217   ,  -3.818182  ],\n",
       "       [  3.5956054 ,  -3.212235  ],\n",
       "       [ -5.05302   ,  -4.047743  ],\n",
       "       [  1.3553988 ,   8.363025  ],\n",
       "       [  1.4949143 ,   1.8205277 ],\n",
       "       [  3.0834975 ,  -1.6710231 ],\n",
       "       [  3.0698383 ,  -0.519918  ],\n",
       "       [ -2.115602  ,  -1.2085258 ],\n",
       "       [ -6.306792  ,  -8.166275  ],\n",
       "       [  3.9786537 ,   2.008766  ],\n",
       "       [  2.6318636 ,  -1.021736  ],\n",
       "       [ -2.5075102 ,  -1.6518798 ],\n",
       "       [ -2.4458504 ,  -0.8235884 ],\n",
       "       [ -1.5534567 ,  -2.4999528 ],\n",
       "       [ -0.8744211 ,  -1.8574592 ],\n",
       "       [ -2.7579567 ,  -2.5059621 ],\n",
       "       [ -2.3124816 ,  -2.5607471 ],\n",
       "       [ -3.0261726 ,  -2.989948  ],\n",
       "       [  2.6370873 ,   0.12189268],\n",
       "       [  4.016779  ,  -0.05839267],\n",
       "       [  1.4688964 ,   8.490876  ],\n",
       "       [ -7.190999  ,  -0.86619043],\n",
       "       [  3.5975766 ,  -1.5852273 ],\n",
       "       [  5.4853654 ,  -0.44585094],\n",
       "       [  2.0550168 ,   1.5176432 ],\n",
       "       [  3.2253814 ,  -2.681093  ],\n",
       "       [  1.8235364 ,  -2.9510157 ],\n",
       "       [  1.0202992 ,   0.5404885 ],\n",
       "       [  1.2180861 ,  -2.3680105 ],\n",
       "       [  1.972153  ,  -1.6192149 ],\n",
       "       [ -2.2553208 ,  -3.791615  ],\n",
       "       [  0.7301187 ,  -2.0584447 ],\n",
       "       [ -2.430512  ,  -3.0794764 ],\n",
       "       [  1.289122  ,  -1.3003004 ],\n",
       "       [  3.9633927 ,   2.1994789 ],\n",
       "       [  2.0309868 ,   3.3080976 ],\n",
       "       [  1.3099085 ,  -0.41641122],\n",
       "       [ -3.6421897 ,  -4.472965  ],\n",
       "       [ -1.4754939 ,  -1.2991444 ],\n",
       "       [ -0.74454486,  -0.7751817 ],\n",
       "       [ -2.8979146 ,   0.22830246],\n",
       "       [  1.3484514 ,  -1.8228477 ],\n",
       "       [  0.3973401 ,  -1.024618  ],\n",
       "       [ -6.796364  ,  -5.8124995 ],\n",
       "       [  0.4120075 ,  -2.8470206 ],\n",
       "       [  3.1356902 ,   1.9888057 ],\n",
       "       [ 11.646697  ,   2.6139023 ],\n",
       "       [ -0.8191181 ,  -5.1521    ],\n",
       "       [  0.58802354,   3.4966867 ],\n",
       "       [  1.5637827 ,   3.881362  ],\n",
       "       [  0.89326096,  -0.33862996],\n",
       "       [  0.44579569,   0.2338156 ],\n",
       "       [ -1.8704132 ,  -4.8506727 ],\n",
       "       [ -0.09207158,  -0.8306094 ],\n",
       "       [ -0.70190644,  -3.9840505 ],\n",
       "       [ -8.363907  ,  -4.2752132 ],\n",
       "       [ -8.850273  ,  -5.3049    ],\n",
       "       [ -9.281047  ,  -5.4437857 ],\n",
       "       [ -8.883153  ,  -5.0955944 ],\n",
       "       [-10.093185  ,  -3.6696208 ],\n",
       "       [-10.473244  ,  -4.6479473 ],\n",
       "       [ -8.001557  ,  -9.471612  ],\n",
       "       [ -7.6701813 ,  -9.936985  ],\n",
       "       [ -9.09607   ,  -8.183887  ],\n",
       "       [ -7.3509464 ,  -7.972425  ],\n",
       "       [ -7.665908  ,  -7.4511385 ],\n",
       "       [ -8.814862  ,  -6.7936473 ],\n",
       "       [ -7.697587  ,  -8.302427  ],\n",
       "       [ -8.772797  ,  -9.0041275 ],\n",
       "       [-11.197471  ,  -5.8219495 ],\n",
       "       [ -9.484     ,  -7.022379  ],\n",
       "       [ -9.093009  , -10.097882  ],\n",
       "       [-10.188451  ,  -8.7514305 ],\n",
       "       [-10.975841  ,  -7.88901   ],\n",
       "       [-12.721481  ,  -7.955987  ],\n",
       "       [-13.94153   ,  -8.94717   ],\n",
       "       [-13.646337  ,  -8.238664  ],\n",
       "       [-14.25028   ,  -9.484151  ],\n",
       "       [-12.634098  ,  -6.161299  ],\n",
       "       [-11.079586  ,  -4.7956696 ],\n",
       "       [-10.501023  ,  -9.697209  ],\n",
       "       [-11.034198  ,  -8.666182  ],\n",
       "       [-13.385234  ,  -7.00891   ],\n",
       "       [-14.619225  ,  -5.7235794 ],\n",
       "       [-15.144696  ,  -6.427502  ],\n",
       "       [-10.2418995 ,  -8.0050955 ],\n",
       "       [ -8.488309  ,  -7.8231454 ],\n",
       "       [ -7.858364  ,  -7.94113   ],\n",
       "       [ -9.199767  ,  -6.527434  ],\n",
       "       [-11.371583  ,  -7.3722367 ],\n",
       "       [ -9.409913  ,  -8.880753  ],\n",
       "       [-12.464445  ,  -8.767532  ],\n",
       "       [-10.941051  ,  -6.9535637 ],\n",
       "       [-12.67338   ,  -8.781632  ],\n",
       "       [-13.066312  ,  -9.804388  ],\n",
       "       [ -8.537898  ,  -6.2591476 ],\n",
       "       [-10.741062  ,  -6.5066366 ],\n",
       "       [-11.599713  ,  -7.6316648 ],\n",
       "       [-10.094332  ,  -9.714311  ],\n",
       "       [-11.499308  ,  -8.583455  ],\n",
       "       [-12.4913845 ,  -7.3038764 ],\n",
       "       [-12.194145  ,  -6.456485  ],\n",
       "       [-11.70201   ,  -9.649277  ]], dtype=float32)"
      ]
     },
     "execution_count": 37,
     "metadata": {},
     "output_type": "execute_result"
    }
   ],
   "source": [
    "tsne_results1"
   ]
  },
  {
   "cell_type": "code",
   "execution_count": 38,
   "metadata": {},
   "outputs": [
    {
     "data": {
      "text/html": [
       "<div>\n",
       "<style scoped>\n",
       "    .dataframe tbody tr th:only-of-type {\n",
       "        vertical-align: middle;\n",
       "    }\n",
       "\n",
       "    .dataframe tbody tr th {\n",
       "        vertical-align: top;\n",
       "    }\n",
       "\n",
       "    .dataframe thead th {\n",
       "        text-align: right;\n",
       "    }\n",
       "</style>\n",
       "<table border=\"1\" class=\"dataframe\">\n",
       "  <thead>\n",
       "    <tr style=\"text-align: right;\">\n",
       "      <th></th>\n",
       "      <th>component1</th>\n",
       "      <th>component2</th>\n",
       "    </tr>\n",
       "  </thead>\n",
       "  <tbody>\n",
       "    <tr>\n",
       "      <th>0</th>\n",
       "      <td>6.183903</td>\n",
       "      <td>6.514266</td>\n",
       "    </tr>\n",
       "    <tr>\n",
       "      <th>1</th>\n",
       "      <td>10.474127</td>\n",
       "      <td>8.062168</td>\n",
       "    </tr>\n",
       "    <tr>\n",
       "      <th>2</th>\n",
       "      <td>9.330258</td>\n",
       "      <td>10.671681</td>\n",
       "    </tr>\n",
       "    <tr>\n",
       "      <th>3</th>\n",
       "      <td>10.915156</td>\n",
       "      <td>4.207104</td>\n",
       "    </tr>\n",
       "    <tr>\n",
       "      <th>4</th>\n",
       "      <td>9.790435</td>\n",
       "      <td>10.044191</td>\n",
       "    </tr>\n",
       "  </tbody>\n",
       "</table>\n",
       "</div>"
      ],
      "text/plain": [
       "   component1  component2\n",
       "0    6.183903    6.514266\n",
       "1   10.474127    8.062168\n",
       "2    9.330258   10.671681\n",
       "3   10.915156    4.207104\n",
       "4    9.790435   10.044191"
      ]
     },
     "execution_count": 38,
     "metadata": {},
     "output_type": "execute_result"
    }
   ],
   "source": [
    "# Creating a dataframe featuring the two principal components that we acquired through t-SNE.\n",
    "tsne_dataset1 = pd.DataFrame(data = tsne_results1, columns = ['component1', 'component2'] )\n",
    "tsne_dataset1.head()"
   ]
  },
  {
   "cell_type": "code",
   "execution_count": 39,
   "metadata": {},
   "outputs": [],
   "source": [
    "# Extracting the two features from above in order to add them to the dataframe.\n",
    "tsne_component1 = tsne_dataset1['component1']\n",
    "tsne_component2 = tsne_dataset1['component2']"
   ]
  },
  {
   "cell_type": "code",
   "execution_count": 40,
   "metadata": {},
   "outputs": [
    {
     "data": {
      "text/plain": [
       "<matplotlib.collections.PathCollection at 0x7fb7e7eefdf0>"
      ]
     },
     "execution_count": 40,
     "metadata": {},
     "output_type": "execute_result"
    },
    {
     "data": {
      "text/plain": [
       "<Figure size 432x288 with 0 Axes>"
      ]
     },
     "metadata": {},
     "output_type": "display_data"
    },
    {
     "data": {
      "image/png": "[encoded data removed]",
      "text/plain": [
       "<Figure size 720x720 with 1 Axes>"
      ]
     },
     "metadata": {
      "needs_background": "light"
     },
     "output_type": "display_data"
    }
   ],
   "source": [
    "# Visualizing the effects of the T-distributed Stochastic Neighbour Embedding.\n",
    "plt.figure()\n",
    "plt.figure(figsize=(10,10))\n",
    "plt.xlabel('Component 1')\n",
    "plt.ylabel('Component 2')\n",
    "plt.title('2 Component TSNE')\n",
    "plt.scatter(tsne_component1, tsne_component2)"
   ]
  },
  {
   "cell_type": "markdown",
   "metadata": {},
   "source": [
    "# 3D T-distributed Stochastic Neighbour Embedding"
   ]
  },
  {
   "cell_type": "code",
   "execution_count": 41,
   "metadata": {},
   "outputs": [
    {
     "name": "stderr",
     "output_type": "stream",
     "text": [
      "/Library/Frameworks/Python.framework/Versions/3.9/lib/python3.9/site-packages/sklearn/manifold/_t_sne.py:780: FutureWarning: The default initialization in TSNE will change from 'random' to 'pca' in 1.2.\n",
      "  warnings.warn(\n",
      "/Library/Frameworks/Python.framework/Versions/3.9/lib/python3.9/site-packages/sklearn/manifold/_t_sne.py:790: FutureWarning: The default learning rate in TSNE will change from 200.0 to 'auto' in 1.2.\n",
      "  warnings.warn(\n"
     ]
    },
    {
     "name": "stdout",
     "output_type": "stream",
     "text": [
      "[t-SNE] Computing 121 nearest neighbors...\n",
      "[t-SNE] Indexed 177 samples in 0.000s...\n",
      "[t-SNE] Computed neighbors for 177 samples in 0.006s...\n",
      "[t-SNE] Computed conditional probabilities for sample 177 / 177\n",
      "[t-SNE] Mean sigma: 1.846523\n",
      "[t-SNE] KL divergence after 250 iterations with early exaggeration: 112.326050\n",
      "[t-SNE] KL divergence after 300 iterations: 2.633116\n"
     ]
    }
   ],
   "source": [
    "tsne = TSNE(n_components=3, verbose=1, perplexity=40, n_iter=300)\n",
    "tsne_results2 = tsne.fit_transform(X)"
   ]
  },
  {
   "cell_type": "code",
   "execution_count": 42,
   "metadata": {},
   "outputs": [
    {
     "data": {
      "text/plain": [
       "array([[-6.11746264e+00, -3.30481029e+00,  3.34466972e+01],\n",
       "       [ 2.27151918e+00, -2.43966103e+01,  1.81785679e+01],\n",
       "       [ 2.21400604e+01,  5.98660564e+00,  2.46957817e+01],\n",
       "       [ 6.71092319e+00, -7.48882532e+00, -3.29634399e+01],\n",
       "       [ 1.24478388e+00, -3.84489365e+01, -9.78575110e-01],\n",
       "       [-1.83754883e+01, -1.67046242e+01, -2.56418724e+01],\n",
       "       [ 1.04210672e+01,  6.67457390e+00,  3.07399750e+01],\n",
       "       [ 3.22351761e+01, -1.21517925e+01,  1.07469664e+01],\n",
       "       [ 1.17600307e+01,  2.70906181e+01, -2.32025909e+01],\n",
       "       [ 1.16141357e+01, -1.75114212e+01,  2.48541870e+01],\n",
       "       [ 4.27691603e+00, -3.08809452e+01, -1.52808475e+01],\n",
       "       [-7.80754471e+00, -3.87698936e+01,  2.65582829e+01],\n",
       "       [ 3.23221283e+01, -2.21295681e+01,  4.77509069e+00],\n",
       "       [ 4.79780436e+00,  3.04230232e+01,  1.44540567e+01],\n",
       "       [ 3.50532112e+01,  4.58459806e+00,  1.36661844e+01],\n",
       "       [ 1.05663471e+01,  5.55652952e+00, -3.14236202e+01],\n",
       "       [-2.71114120e+01, -1.56788874e+01,  3.09652023e+01],\n",
       "       [ 1.32812080e+01, -3.11250839e+01,  1.95178108e+01],\n",
       "       [ 2.61738453e+01, -5.50829582e-02, -6.43980637e+01],\n",
       "       [ 1.09240150e+01, -1.74726715e+01,  1.27029514e+01],\n",
       "       [ 6.06276989e+00, -1.90018252e-01,  7.79878521e+00],\n",
       "       [ 1.12828102e+01,  4.92668676e+00, -1.96836414e+01],\n",
       "       [ 3.56491585e+01,  7.79841304e-01, -2.06381655e+00],\n",
       "       [ 4.80845718e+01,  7.54341078e+00, -3.55175323e+01],\n",
       "       [ 8.37263203e+00,  7.67356253e+00,  1.89613228e+01],\n",
       "       [ 1.30566378e+01, -2.93466806e+00,  1.74530506e+01],\n",
       "       [ 1.61690559e+01,  4.81720829e+00,  5.43930387e+00],\n",
       "       [-6.16153240e+00, -1.79166737e+01,  1.24117813e+01],\n",
       "       [ 3.40134773e+01, -1.15189619e+01, -3.17523050e+00],\n",
       "       [-5.50970733e-01, -1.94082737e+01,  2.89589596e+01],\n",
       "       [-3.38391685e+00,  1.44634275e+01,  2.95811157e+01],\n",
       "       [-8.42320442e+00, -2.40842113e+01, -2.16151543e+01],\n",
       "       [ 3.87588203e-01, -3.33908272e+01,  1.00628805e+01],\n",
       "       [ 1.43855896e+01, -5.85159636e+00, -2.49291649e+01],\n",
       "       [-6.03224487e+01,  3.42394714e+01, -1.22152893e+02],\n",
       "       [ 2.07701302e+01, -1.53913937e+01, -1.28942323e+00],\n",
       "       [-1.59041615e+01, -2.34499798e+01,  2.94210968e+01],\n",
       "       [ 4.68252325e+00, -2.51031036e+01, -2.53510475e+01],\n",
       "       [ 1.86337929e+01, -4.91066933e+00,  3.23549004e+01],\n",
       "       [ 2.52852173e+01,  9.12589836e+00, -6.83718979e-01],\n",
       "       [-8.19775641e-01, -1.61660767e+01, -4.68200350e+00],\n",
       "       [-3.02102814e+01,  4.61401320e+00,  2.27635326e+01],\n",
       "       [ 3.23697548e+01, -3.05148339e+00, -2.92194672e+01],\n",
       "       [ 1.29593338e+02, -1.81377831e+01,  6.69899292e+01],\n",
       "       [ 2.98108177e+01,  1.97250957e+01,  4.41229486e+00],\n",
       "       [-6.41744995e+00, -2.39440060e+01,  2.02415848e+00],\n",
       "       [ 2.54383087e+00,  4.04059601e+01,  1.92984409e+01],\n",
       "       [ 1.53926582e+01, -1.26879826e+01, -1.49495049e+01],\n",
       "       [ 2.62141533e+01, -1.52203169e+01, -1.31490555e+01],\n",
       "       [ 2.36357613e+01, -9.63131809e+00,  2.10688972e+01],\n",
       "       [ 3.57886052e+00, -2.76909637e+01, -2.85405207e+00],\n",
       "       [ 2.24077930e+01, -2.16226768e+01,  1.56684589e+01],\n",
       "       [ 2.46269703e+01,  1.03067770e+01,  1.35582466e+01],\n",
       "       [ 1.68904591e+01, -9.49139023e+00,  8.35046196e+00],\n",
       "       [ 1.00822964e+01, -1.98289604e+01, -9.64013481e+00],\n",
       "       [-5.25961418e+01, -2.80603576e+00, -3.50397148e+01],\n",
       "       [ 2.29541588e+01,  5.04901409e-02, -2.40624294e+01],\n",
       "       [ 1.87083244e+01, -2.59471264e+01, -7.78826952e+00],\n",
       "       [-3.06750321e+00, -1.34821310e+01, -2.88435020e+01],\n",
       "       [-6.07264519e+01,  4.04268723e+01, -5.31376152e+01],\n",
       "       [-9.34617615e+00, -2.66832924e+01,  2.02468987e+01],\n",
       "       [ 1.46990175e+01, -1.13321781e+00, -1.10469456e+01],\n",
       "       [ 1.98698578e+01,  9.21406364e+00, -1.17542562e+01],\n",
       "       [-1.65446682e+01, -7.12944078e+00,  7.97932673e+00],\n",
       "       [ 2.13686872e+00, -9.91988754e+00,  1.50525694e+01],\n",
       "       [ 1.10226021e+01, -3.49514794e+00, -1.32254303e+00],\n",
       "       [ 2.22974186e+01,  1.53523436e+01, -2.35383472e+01],\n",
       "       [ 7.78818083e+00,  8.21022701e+00, -6.91277885e+00],\n",
       "       [ 1.47069824e+00, -1.62783337e+01, -1.74820061e+01],\n",
       "       [-5.45711946e+00,  1.59251833e+01, -4.90322590e+00],\n",
       "       [-8.73374557e+00, -1.08830118e+01,  2.26945553e+01],\n",
       "       [-4.90607381e-01,  8.77243042e+00,  2.30951738e+00],\n",
       "       [-1.87990932e+01, -1.64476738e+01,  1.67829304e+01],\n",
       "       [ 2.74131870e+01, -1.89998114e+00, -1.34231091e+01],\n",
       "       [-1.23474016e+01,  2.91390085e+00,  3.43546319e+00],\n",
       "       [-2.45529556e+01, -2.85272884e+01,  1.52425327e+01],\n",
       "       [-1.04203033e+01,  6.43410778e+00, -6.41549301e+00],\n",
       "       [ 2.54674549e+01, -1.83207858e+00,  1.00450659e+01],\n",
       "       [ 3.35147858e+01,  8.96775150e+00, -1.36432695e+01],\n",
       "       [ 4.61959171e+00, -7.13458490e+00, -9.71735954e+00],\n",
       "       [ 2.82203350e+01,  7.53728724e+00, -1.23049004e+02],\n",
       "       [ 1.97157440e+01, -2.16126156e+01,  3.27924118e+01],\n",
       "       [-2.72411728e+01, -8.94021797e+00, -7.86322641e+00],\n",
       "       [-3.41865849e+00, -6.33590162e-01,  1.25511198e+01],\n",
       "       [-4.89432259e+01,  2.36914659e+00, -7.10809937e+01],\n",
       "       [-2.12517738e+01,  1.87355862e+01, -2.68985329e+01],\n",
       "       [-2.21373749e+00,  1.74038613e+00, -1.24906254e+01],\n",
       "       [-2.08236623e+00, -4.55826073e+01,  1.45047274e+01],\n",
       "       [-1.40295439e+01,  5.07818937e-01,  1.68455200e+01],\n",
       "       [-8.41020107e+00, -4.86399984e+00, -2.06309795e+01],\n",
       "       [-1.61238575e+01, -3.43040586e+00, -5.13430357e+00],\n",
       "       [ 7.59547949e+00,  2.10465832e+01, -1.28232298e+01],\n",
       "       [-4.57758827e+01, -2.83788490e+01,  3.76808243e+01],\n",
       "       [-1.79665337e+01, -1.15536356e+00,  2.91494656e+01],\n",
       "       [-2.54990387e+01, -2.22860928e+01,  3.45769620e+00],\n",
       "       [-2.67359644e-01,  1.20461464e+01, -1.52223749e+01],\n",
       "       [-8.20238953e+01, -7.14490585e+01,  2.12804527e+01],\n",
       "       [ 2.79909801e+00,  5.39817772e+01,  2.29328728e+01],\n",
       "       [ 8.46359634e+00,  1.35397081e+01,  8.89224148e+00],\n",
       "       [ 6.00017691e+00,  2.30309677e+01,  2.68503551e+01],\n",
       "       [ 5.29874954e+01,  2.90279598e+01, -1.71582639e+00],\n",
       "       [ 7.85666704e+00, -1.52132368e+01,  1.69959843e+00],\n",
       "       [-3.17980442e+01, -1.07988632e+00,  4.98667908e+01],\n",
       "       [-2.35831718e+01, -5.70416689e-01,  3.94826431e+01],\n",
       "       [-1.26291275e+01,  1.25524921e+01,  1.10043001e+01],\n",
       "       [ 2.61879325e+00, -4.30715561e+00, -2.05438271e+01],\n",
       "       [-6.53186493e+01,  1.52525938e+00,  7.32358360e+00],\n",
       "       [-1.54559982e+00, -1.79740357e+00, -1.83683848e+00],\n",
       "       [-9.16128159e+00, -1.88945770e+01, -3.72162666e+01],\n",
       "       [ 2.26405773e+01,  3.26240044e+01, -5.74433947e+00],\n",
       "       [ 2.17009983e+01, -3.01127586e+01,  3.06908178e+00],\n",
       "       [-1.15406847e+00,  2.19414597e+01,  5.75541544e+00],\n",
       "       [-1.37868528e+01,  2.18766613e+01, -3.76072464e+01],\n",
       "       [-4.62222099e+00, -9.72600842e+00,  4.33601761e+00],\n",
       "       [-1.42924440e+00,  1.34555473e+01,  1.51978788e+01],\n",
       "       [-7.78360176e+00, -2.44225426e+01, -9.86235142e+00],\n",
       "       [ 1.01194954e+01,  1.78355007e+01, -1.21177852e+00],\n",
       "       [-1.32388840e+01, -3.54486132e+00, -3.38992081e+01],\n",
       "       [-1.53584528e+01, -1.47768288e+01, -6.35859966e-01],\n",
       "       [-7.68481159e+00,  2.69295864e+01, -2.72562275e+01],\n",
       "       [-1.24801235e+01, -3.66483650e+01, -4.35355282e+00],\n",
       "       [-2.99351463e+01, -7.83283806e+00,  6.39895964e+00],\n",
       "       [ 2.47146797e+01, -2.71087723e+01, -1.89716854e+01],\n",
       "       [-2.78216133e+01, -7.81825876e+00,  2.00812283e+01],\n",
       "       [ 1.21625690e+01, -2.62883720e+01,  5.22687101e+00],\n",
       "       [ 1.71618443e+01,  2.70083561e+01,  6.41120625e+00],\n",
       "       [-3.29636612e+01, -1.98854313e+01, -9.74244976e+00],\n",
       "       [-4.33440065e+00,  1.54137859e+01, -2.55138130e+01],\n",
       "       [-2.38053379e+01,  3.00205374e+00,  1.07280874e+01],\n",
       "       [-1.56500883e+01,  1.54113293e+01, -6.75393105e-01],\n",
       "       [-3.37276196e+00,  1.67503777e+01,  4.11982803e+01],\n",
       "       [ 8.59515991e+01, -1.58462734e+01,  1.06819405e+02],\n",
       "       [-8.00071335e+00,  2.82792988e+01, -4.97329998e+00],\n",
       "       [-9.10407162e+00, -1.02390299e+01, -1.07974138e+01],\n",
       "       [ 1.71539078e+01, -1.80629787e+01, -2.80357361e+01],\n",
       "       [-3.44495888e+01,  1.29941463e+01, -7.49122572e+00],\n",
       "       [-2.52991333e+01,  1.98900547e+01, -7.80042362e+00],\n",
       "       [ 4.18423805e+01,  1.88230972e+01, -7.20778084e+00],\n",
       "       [ 2.11528015e+01,  2.08724899e+01, -9.51852608e+00],\n",
       "       [-9.22424316e-01,  1.70653152e+00,  4.22094040e+01],\n",
       "       [-2.31790333e+01,  5.17579317e+00, -9.49517059e+00],\n",
       "       [-6.97563648e+00,  3.44591179e+01,  5.66614771e+00],\n",
       "       [-2.00226555e+01, -1.91429825e+01, -1.17175131e+01],\n",
       "       [-3.60406756e-01,  3.72031250e+01, -1.04778805e+01],\n",
       "       [ 1.87091732e+01,  4.18326378e+00, -3.85283203e+01],\n",
       "       [-1.79633999e+01,  3.07692738e+01, -1.30577135e+01],\n",
       "       [-3.05643616e+01,  3.94538492e-01,  8.62423782e+01],\n",
       "       [ 6.67569160e+00,  1.55400229e+01, -2.71478863e+01],\n",
       "       [-3.48274422e+01,  5.77803850e-01, -2.67431641e+00],\n",
       "       [-5.17092276e+00,  2.37107563e+01, -1.44251060e+01],\n",
       "       [-1.44707813e+01, -3.01189480e+01,  8.46714687e+00],\n",
       "       [-1.75512600e+01,  2.66527157e+01,  3.41276145e+00],\n",
       "       [-1.69131413e+01,  8.16134644e+00, -3.08897114e+01],\n",
       "       [ 2.32953854e+01, -3.55749989e+00, -2.16885805e+00],\n",
       "       [ 4.99928665e+01, -1.94222794e+01, -3.69739227e+01],\n",
       "       [ 1.34354677e+01, -3.75505066e+01, -7.75106668e+00],\n",
       "       [-1.66853352e+01,  1.70817108e+01, -1.55470638e+01],\n",
       "       [-1.35445356e+01,  6.01215315e+00, -1.91641922e+01],\n",
       "       [-5.30714226e+00,  4.87105274e+00,  2.36182709e+01],\n",
       "       [ 1.51681881e+01,  2.04370155e+01,  1.76365376e+01],\n",
       "       [ 8.44661331e+01, -3.63411636e+01,  2.77150803e+01],\n",
       "       [-3.04128628e+01,  2.45529875e-01, -1.88289127e+01],\n",
       "       [-4.21907272e+01,  2.53442955e+00, -1.93191147e+01],\n",
       "       [-2.89309673e+01,  3.42710457e+01, -1.96339207e+01],\n",
       "       [-2.33227634e+01, -3.05092678e+01, -9.94795799e+00],\n",
       "       [ 7.64291048e+00,  3.13212490e+01, -2.90831041e+00],\n",
       "       [-1.99628448e+01, -5.52671337e+00, -1.86380157e+01],\n",
       "       [-2.48478355e+01,  3.62012291e+01, -4.64870930e+00],\n",
       "       [-2.97787361e+01,  1.01216612e+01,  4.15171242e+00],\n",
       "       [ 3.33958435e+01, -3.54955025e+01, -8.51520443e+00],\n",
       "       [-3.99177217e+00,  4.72963953e+00, -3.04810257e+01],\n",
       "       [-9.42316151e+00,  2.53789845e+01,  1.78252354e+01],\n",
       "       [-3.06899090e+01,  2.24461193e+01,  3.02554464e+00],\n",
       "       [ 6.76846170e+00,  8.37183666e+00,  4.72745667e+01],\n",
       "       [ 4.33694315e+00, -5.57584572e+00,  2.74891472e+01],\n",
       "       [-2.13044109e+01,  1.97442646e+01,  1.78720932e+01],\n",
       "       [-2.90000687e+01,  1.36464243e+01, -1.88959866e+01]], dtype=float32)"
      ]
     },
     "execution_count": 42,
     "metadata": {},
     "output_type": "execute_result"
    }
   ],
   "source": [
    "tsne_results2"
   ]
  },
  {
   "cell_type": "code",
   "execution_count": 43,
   "metadata": {},
   "outputs": [
    {
     "data": {
      "text/html": [
       "<div>\n",
       "<style scoped>\n",
       "    .dataframe tbody tr th:only-of-type {\n",
       "        vertical-align: middle;\n",
       "    }\n",
       "\n",
       "    .dataframe tbody tr th {\n",
       "        vertical-align: top;\n",
       "    }\n",
       "\n",
       "    .dataframe thead th {\n",
       "        text-align: right;\n",
       "    }\n",
       "</style>\n",
       "<table border=\"1\" class=\"dataframe\">\n",
       "  <thead>\n",
       "    <tr style=\"text-align: right;\">\n",
       "      <th></th>\n",
       "      <th>component3</th>\n",
       "      <th>component4</th>\n",
       "      <th>component5</th>\n",
       "    </tr>\n",
       "  </thead>\n",
       "  <tbody>\n",
       "    <tr>\n",
       "      <th>0</th>\n",
       "      <td>-6.117463</td>\n",
       "      <td>-3.304810</td>\n",
       "      <td>33.446697</td>\n",
       "    </tr>\n",
       "    <tr>\n",
       "      <th>1</th>\n",
       "      <td>2.271519</td>\n",
       "      <td>-24.396610</td>\n",
       "      <td>18.178568</td>\n",
       "    </tr>\n",
       "    <tr>\n",
       "      <th>2</th>\n",
       "      <td>22.140060</td>\n",
       "      <td>5.986606</td>\n",
       "      <td>24.695782</td>\n",
       "    </tr>\n",
       "    <tr>\n",
       "      <th>3</th>\n",
       "      <td>6.710923</td>\n",
       "      <td>-7.488825</td>\n",
       "      <td>-32.963440</td>\n",
       "    </tr>\n",
       "    <tr>\n",
       "      <th>4</th>\n",
       "      <td>1.244784</td>\n",
       "      <td>-38.448936</td>\n",
       "      <td>-0.978575</td>\n",
       "    </tr>\n",
       "  </tbody>\n",
       "</table>\n",
       "</div>"
      ],
      "text/plain": [
       "   component3  component4  component5\n",
       "0   -6.117463   -3.304810   33.446697\n",
       "1    2.271519  -24.396610   18.178568\n",
       "2   22.140060    5.986606   24.695782\n",
       "3    6.710923   -7.488825  -32.963440\n",
       "4    1.244784  -38.448936   -0.978575"
      ]
     },
     "execution_count": 43,
     "metadata": {},
     "output_type": "execute_result"
    }
   ],
   "source": [
    "# Creating a dataframe featuring the three Principal components that we acquired through t-SNE.\n",
    "tsne_dataset2 = pd.DataFrame(data = tsne_results2, columns = ['component3', 'component4', 'component5'] )\n",
    "tsne_dataset2.head()"
   ]
  },
  {
   "cell_type": "code",
   "execution_count": 44,
   "metadata": {},
   "outputs": [],
   "source": [
    "# Extracting the three features from above in order to add them to the dataframe.\n",
    "tsne_component3 = tsne_dataset2['component3']\n",
    "tsne_component4 = tsne_dataset2['component4']\n",
    "tsne_component5 = tsne_dataset2['component5']"
   ]
  },
  {
   "cell_type": "code",
   "execution_count": 45,
   "metadata": {},
   "outputs": [
    {
     "name": "stderr",
     "output_type": "stream",
     "text": [
      "/var/folders/v8/g6gkkl694rg09vv_x6g7ppqc0000gn/T/ipykernel_41986/2648427008.py:2: MatplotlibDeprecationWarning: Calling gca() with keyword arguments was deprecated in Matplotlib 3.4. Starting two minor releases later, gca() will take no keyword arguments. The gca() function should only be used to get the current axes, or if no axes exist, create new axes with default keyword arguments. To create a new axes with non-default arguments, use plt.axes() or plt.subplot().\n",
      "  ax = plt.figure(figsize=(10,10)).gca(projection='3d')\n"
     ]
    },
    {
     "data": {
      "image/png": "[encoded data removed]",
      "text/plain": [
       "<Figure size 720x720 with 1 Axes>"
      ]
     },
     "metadata": {
      "needs_background": "light"
     },
     "output_type": "display_data"
    }
   ],
   "source": [
    "# Visualizing the 3D t-SNE.\n",
    "ax = plt.figure(figsize=(10,10)).gca(projection='3d')\n",
    "plt.title('3D T-distributed Stochastic Neighbor Embedding (TSNE)')\n",
    "ax.scatter(\n",
    "    xs=tsne_component3, \n",
    "    ys=tsne_component4, \n",
    "    zs=tsne_component5, \n",
    "    #c = x_kmeans\n",
    ")\n",
    "ax.set_xlabel('tsne-one')\n",
    "ax.set_ylabel('tsne-two')\n",
    "ax.set_zlabel('tsne-three')\n",
    "plt.show()"
   ]
  }
 ],
 "metadata": {
  "interpreter": {
   "hash": "aee8b7b246df8f9039afb4144a1f6fd8d2ca17a180786b69acc140d282b71a49"
  },
  "kernelspec": {
   "display_name": "Python 3.9.7 64-bit",
   "language": "python",
   "name": "python3"
  },
  "language_info": {
   "codemirror_mode": {
    "name": "ipython",
    "version": 3
   },
   "file_extension": ".py",
   "mimetype": "text/x-python",
   "name": "python",
   "nbconvert_exporter": "python",
   "pygments_lexer": "ipython3",
   "version": "3.9.7"
  },
  "orig_nbformat": 4
 },
 "nbformat": 4,
 "nbformat_minor": 2
}
